{
 "cells": [
  {
   "cell_type": "code",
   "execution_count": 1,
   "metadata": {},
   "outputs": [],
   "source": [
    "import cv2\n",
    "import imghdr\n",
    "import tensorflow as tf\n",
    "import os\n",
    "from matplotlib import pyplot as plt\n",
    "import numpy as np"
   ]
  },
  {
   "cell_type": "code",
   "execution_count": 2,
   "metadata": {},
   "outputs": [],
   "source": [
    "X_train = []\n",
    "y_train = []\n",
    "X_test = []\n",
    "y_test = []\n",
    "image_size = 224\n",
    "labels = ['glioma','notumor','meningioma','pituitary']\n",
    "for i in labels:\n",
    "    folderPath = os.path.join('E:/anamika_maam/brain/Training',i)\n",
    "    for j in os.listdir(folderPath):\n",
    "        img = cv2.imread(os.path.join(folderPath,j))\n",
    "        img = cv2.resize(img,(image_size, image_size))\n",
    "        X_train.append(img)\n",
    "        y_train.append(i)\n",
    "        \n",
    "for i in labels:\n",
    "    folderPath = os.path.join('E:/anamika_maam/brain/Testing',i)\n",
    "    for j in os.listdir(folderPath):\n",
    "        img = cv2.imread(os.path.join(folderPath,j))\n",
    "        img = cv2.resize(img,(image_size,image_size))\n",
    "        X_train.append(img)\n",
    "        y_train.append(i)\n",
    "        \n",
    "X_train = np.array(X_train)\n",
    "y_train = np.array(y_train)\n",
    "        \n"
   ]
  },
  {
   "cell_type": "code",
   "execution_count": 3,
   "metadata": {},
   "outputs": [
    {
     "data": {
      "text/plain": [
       "(7022, 224, 224, 3)"
      ]
     },
     "execution_count": 3,
     "metadata": {},
     "output_type": "execute_result"
    }
   ],
   "source": [
    "from sklearn.utils import shuffle\n",
    "X_train,y_train=shuffle(X_train,y_train,random_state=101)\n",
    "X_train.shape"
   ]
  },
  {
   "cell_type": "code",
   "execution_count": 4,
   "metadata": {},
   "outputs": [],
   "source": [
    "from sklearn.model_selection import train_test_split\n",
    "X_train,X_test,y_train,y_test=train_test_split(X_train,y_train,test_size=.3,random_state=45)"
   ]
  },
  {
   "cell_type": "code",
   "execution_count": 5,
   "metadata": {},
   "outputs": [],
   "source": [
    "\n",
    "train = tf.keras.preprocessing.image.ImageDataGenerator(rescale=1./255,validation_split=0.2)\n",
    "train.fit(X_train)\n",
    "\n"
   ]
  },
  {
   "cell_type": "code",
   "execution_count": 6,
   "metadata": {},
   "outputs": [],
   "source": [
    "y_train_new = []\n",
    "for i in y_train:\n",
    "    y_train_new.append(labels.index(i))\n",
    "y_train = y_train_new\n",
    "y_train = tf.keras.utils.to_categorical(y_train)"
   ]
  },
  {
   "cell_type": "code",
   "execution_count": 7,
   "metadata": {},
   "outputs": [],
   "source": [
    "y_test_new = []\n",
    "for i in y_test:\n",
    "    y_test_new.append(labels.index(i))\n",
    "y_test = y_test_new\n",
    "y_test = tf.keras.utils.to_categorical(y_test)"
   ]
  },
  {
   "cell_type": "code",
   "execution_count": 9,
   "metadata": {},
   "outputs": [
    {
     "name": "stdout",
     "output_type": "stream",
     "text": [
      "Downloading data from https://storage.googleapis.com/tensorflow/keras-applications/xception/xception_weights_tf_dim_ordering_tf_kernels_notop.h5\n",
      "83689472/83683744 [==============================] - 118s 1us/step\n",
      "83697664/83683744 [==============================] - 118s 1us/step\n"
     ]
    }
   ],
   "source": [
    "from tensorflow.keras.layers import *\n",
    "\n",
    "Xcep_model=tf.keras.applications.Xception(include_top=False,weights=\"imagenet\",input_tensor=None,input_shape=(224, 224, 3))\n",
    "\n",
    "for l in Xcep_model.layers:\n",
    "# Freezing the model\n",
    "  l.trainable = False"
   ]
  },
  {
   "cell_type": "code",
   "execution_count": null,
   "metadata": {},
   "outputs": [],
   "source": [
    "Xcep_model.summery()"
   ]
  },
  {
   "cell_type": "code",
   "execution_count": 10,
   "metadata": {},
   "outputs": [],
   "source": [
    "logdir='logs'\n",
    "tensorboard_callback = tf.keras.callbacks.TensorBoard(log_dir=logdir)"
   ]
  },
  {
   "cell_type": "code",
   "execution_count": 11,
   "metadata": {},
   "outputs": [],
   "source": [
    "from tensorflow.keras.models import *\n",
    "model = Sequential()\n",
    "model.add(Input(shape=(224,224,3)))\n",
    "model.add(Xcep_model)\n",
    "model.add(Flatten())\n",
    "model.add(Dropout(0.25))\n",
    "model.add(Dense(128, activation='relu'))\n",
    "model.add(Dropout(0.2))\n",
    "model.add(Dense(4, activation='softmax')) \n"
   ]
  },
  {
   "cell_type": "code",
   "execution_count": 12,
   "metadata": {},
   "outputs": [
    {
     "name": "stdout",
     "output_type": "stream",
     "text": [
      "Model: \"sequential\"\n",
      "_________________________________________________________________\n",
      " Layer (type)                Output Shape              Param #   \n",
      "=================================================================\n",
      " xception (Functional)       (None, 7, 7, 2048)        20861480  \n",
      "                                                                 \n",
      " flatten (Flatten)           (None, 100352)            0         \n",
      "                                                                 \n",
      " dropout (Dropout)           (None, 100352)            0         \n",
      "                                                                 \n",
      " dense (Dense)               (None, 128)               12845184  \n",
      "                                                                 \n",
      " dropout_1 (Dropout)         (None, 128)               0         \n",
      "                                                                 \n",
      " dense_1 (Dense)             (None, 4)                 516       \n",
      "                                                                 \n",
      "=================================================================\n",
      "Total params: 33,707,180\n",
      "Trainable params: 12,845,700\n",
      "Non-trainable params: 20,861,480\n",
      "_________________________________________________________________\n"
     ]
    },
    {
     "name": "stderr",
     "output_type": "stream",
     "text": [
      "C:\\Users\\Umesh\\AppData\\Local\\Programs\\Python\\Python39\\lib\\site-packages\\keras\\optimizer_v2\\adam.py:105: UserWarning: The `lr` argument is deprecated, use `learning_rate` instead.\n",
      "  super(Adam, self).__init__(name, **kwargs)\n"
     ]
    }
   ],
   "source": [
    "model.compile(loss='categorical_crossentropy',optimizer=tf.optimizers.Adam(lr=3e-5) ,metrics='accuracy')\n",
    "model.summary()"
   ]
  },
  {
   "cell_type": "code",
   "execution_count": 13,
   "metadata": {},
   "outputs": [
    {
     "name": "stdout",
     "output_type": "stream",
     "text": [
      "Epoch 1/50\n",
      "62/62 [==============================] - 30s 343ms/step - loss: 0.5382 - accuracy: 0.7986 - val_loss: 0.2897 - val_accuracy: 0.8891\n",
      "Epoch 2/50\n",
      "62/62 [==============================] - 20s 320ms/step - loss: 0.2656 - accuracy: 0.9036 - val_loss: 0.2380 - val_accuracy: 0.9115\n",
      "Epoch 3/50\n",
      "62/62 [==============================] - 19s 311ms/step - loss: 0.1923 - accuracy: 0.9318 - val_loss: 0.2242 - val_accuracy: 0.9135\n",
      "Epoch 4/50\n",
      "62/62 [==============================] - 19s 313ms/step - loss: 0.1399 - accuracy: 0.9484 - val_loss: 0.1811 - val_accuracy: 0.9298\n",
      "Epoch 5/50\n",
      "62/62 [==============================] - 19s 314ms/step - loss: 0.1088 - accuracy: 0.9619 - val_loss: 0.1607 - val_accuracy: 0.9420\n",
      "Epoch 6/50\n",
      "62/62 [==============================] - 20s 316ms/step - loss: 0.0833 - accuracy: 0.9753 - val_loss: 0.1459 - val_accuracy: 0.9512\n",
      "Epoch 7/50\n",
      "62/62 [==============================] - 20s 321ms/step - loss: 0.0633 - accuracy: 0.9830 - val_loss: 0.1405 - val_accuracy: 0.9502\n",
      "Epoch 8/50\n",
      "62/62 [==============================] - 20s 325ms/step - loss: 0.0517 - accuracy: 0.9865 - val_loss: 0.1604 - val_accuracy: 0.9390\n",
      "Epoch 9/50\n",
      "62/62 [==============================] - 20s 327ms/step - loss: 0.0521 - accuracy: 0.9868 - val_loss: 0.1452 - val_accuracy: 0.9471\n",
      "Epoch 10/50\n",
      "62/62 [==============================] - 21s 332ms/step - loss: 0.0458 - accuracy: 0.9878 - val_loss: 0.1364 - val_accuracy: 0.9552\n",
      "Epoch 11/50\n",
      "62/62 [==============================] - 21s 333ms/step - loss: 0.0319 - accuracy: 0.9924 - val_loss: 0.1522 - val_accuracy: 0.9461\n",
      "Epoch 12/50\n",
      "62/62 [==============================] - 21s 336ms/step - loss: 0.0259 - accuracy: 0.9967 - val_loss: 0.1524 - val_accuracy: 0.9481\n",
      "Epoch 13/50\n",
      "62/62 [==============================] - 21s 341ms/step - loss: 0.0247 - accuracy: 0.9962 - val_loss: 0.1600 - val_accuracy: 0.9491\n",
      "Epoch 14/50\n",
      "62/62 [==============================] - 21s 343ms/step - loss: 0.0202 - accuracy: 0.9975 - val_loss: 0.1371 - val_accuracy: 0.9532\n",
      "Epoch 15/50\n",
      "62/62 [==============================] - 22s 348ms/step - loss: 0.0145 - accuracy: 0.9987 - val_loss: 0.1415 - val_accuracy: 0.9532\n",
      "Epoch 16/50\n",
      "62/62 [==============================] - 22s 348ms/step - loss: 0.0160 - accuracy: 0.9977 - val_loss: 0.1490 - val_accuracy: 0.9512\n",
      "Epoch 17/50\n",
      "62/62 [==============================] - 22s 350ms/step - loss: 0.0124 - accuracy: 0.9985 - val_loss: 0.1468 - val_accuracy: 0.9491\n",
      "Epoch 18/50\n",
      "62/62 [==============================] - 22s 351ms/step - loss: 0.0119 - accuracy: 0.9987 - val_loss: 0.1498 - val_accuracy: 0.9481\n",
      "Epoch 19/50\n",
      "62/62 [==============================] - 22s 351ms/step - loss: 0.0096 - accuracy: 0.9997 - val_loss: 0.1426 - val_accuracy: 0.9512\n",
      "Epoch 20/50\n",
      "62/62 [==============================] - 22s 349ms/step - loss: 0.0099 - accuracy: 0.9995 - val_loss: 0.1412 - val_accuracy: 0.9542\n",
      "Epoch 21/50\n",
      "62/62 [==============================] - 22s 350ms/step - loss: 0.0095 - accuracy: 0.9987 - val_loss: 0.1426 - val_accuracy: 0.9502\n",
      "Epoch 22/50\n",
      "62/62 [==============================] - 22s 355ms/step - loss: 0.0090 - accuracy: 0.9995 - val_loss: 0.1431 - val_accuracy: 0.9512\n",
      "Epoch 23/50\n",
      "62/62 [==============================] - 22s 356ms/step - loss: 0.0075 - accuracy: 0.9997 - val_loss: 0.1425 - val_accuracy: 0.9532\n",
      "Epoch 24/50\n",
      "62/62 [==============================] - 22s 358ms/step - loss: 0.0082 - accuracy: 0.9995 - val_loss: 0.1424 - val_accuracy: 0.9512\n",
      "Epoch 25/50\n",
      "62/62 [==============================] - 22s 356ms/step - loss: 0.0092 - accuracy: 0.9987 - val_loss: 0.1446 - val_accuracy: 0.9542\n",
      "Epoch 26/50\n",
      "62/62 [==============================] - 22s 354ms/step - loss: 0.0061 - accuracy: 1.0000 - val_loss: 0.1438 - val_accuracy: 0.9512\n",
      "Epoch 27/50\n",
      "62/62 [==============================] - 22s 353ms/step - loss: 0.0055 - accuracy: 0.9995 - val_loss: 0.1536 - val_accuracy: 0.9502\n",
      "Epoch 28/50\n",
      "62/62 [==============================] - 22s 358ms/step - loss: 0.0053 - accuracy: 0.9997 - val_loss: 0.1435 - val_accuracy: 0.9502\n",
      "Epoch 29/50\n",
      "62/62 [==============================] - 22s 358ms/step - loss: 0.0043 - accuracy: 0.9997 - val_loss: 0.1462 - val_accuracy: 0.9532\n",
      "Epoch 30/50\n",
      "62/62 [==============================] - 22s 358ms/step - loss: 0.0044 - accuracy: 0.9995 - val_loss: 0.1516 - val_accuracy: 0.9512\n",
      "Epoch 31/50\n",
      "62/62 [==============================] - 22s 354ms/step - loss: 0.0042 - accuracy: 0.9997 - val_loss: 0.1624 - val_accuracy: 0.9491\n",
      "Epoch 32/50\n",
      "62/62 [==============================] - 22s 354ms/step - loss: 0.0062 - accuracy: 0.9992 - val_loss: 0.1921 - val_accuracy: 0.9430\n",
      "Epoch 33/50\n",
      "62/62 [==============================] - 23s 367ms/step - loss: 0.0056 - accuracy: 0.9997 - val_loss: 0.1571 - val_accuracy: 0.9481\n",
      "Epoch 34/50\n",
      "62/62 [==============================] - 22s 361ms/step - loss: 0.0032 - accuracy: 1.0000 - val_loss: 0.1501 - val_accuracy: 0.9583\n",
      "Epoch 35/50\n",
      "62/62 [==============================] - 22s 362ms/step - loss: 0.0039 - accuracy: 1.0000 - val_loss: 0.1534 - val_accuracy: 0.9512\n",
      "Epoch 36/50\n",
      "62/62 [==============================] - 22s 358ms/step - loss: 0.0024 - accuracy: 1.0000 - val_loss: 0.1555 - val_accuracy: 0.9502\n",
      "Epoch 37/50\n",
      "62/62 [==============================] - 22s 355ms/step - loss: 0.0029 - accuracy: 1.0000 - val_loss: 0.1585 - val_accuracy: 0.9502\n",
      "Epoch 38/50\n",
      "62/62 [==============================] - 20s 329ms/step - loss: 0.0050 - accuracy: 0.9992 - val_loss: 0.1559 - val_accuracy: 0.9512\n",
      "Epoch 39/50\n",
      "62/62 [==============================] - 20s 322ms/step - loss: 0.0029 - accuracy: 0.9997 - val_loss: 0.1682 - val_accuracy: 0.9512\n",
      "Epoch 40/50\n",
      "62/62 [==============================] - 20s 323ms/step - loss: 0.0027 - accuracy: 1.0000 - val_loss: 0.1552 - val_accuracy: 0.9512\n",
      "Epoch 41/50\n",
      "62/62 [==============================] - 20s 322ms/step - loss: 0.0031 - accuracy: 0.9995 - val_loss: 0.1534 - val_accuracy: 0.9471\n",
      "Epoch 42/50\n",
      "62/62 [==============================] - 20s 322ms/step - loss: 0.0034 - accuracy: 0.9997 - val_loss: 0.1566 - val_accuracy: 0.9502\n",
      "Epoch 43/50\n",
      "62/62 [==============================] - 20s 323ms/step - loss: 0.0020 - accuracy: 1.0000 - val_loss: 0.1481 - val_accuracy: 0.9552\n",
      "Epoch 44/50\n",
      "62/62 [==============================] - 20s 323ms/step - loss: 0.0019 - accuracy: 1.0000 - val_loss: 0.1617 - val_accuracy: 0.9542\n",
      "Epoch 45/50\n",
      "62/62 [==============================] - 20s 323ms/step - loss: 0.0027 - accuracy: 0.9997 - val_loss: 0.1607 - val_accuracy: 0.9512\n",
      "Epoch 46/50\n",
      "62/62 [==============================] - 20s 324ms/step - loss: 0.0024 - accuracy: 1.0000 - val_loss: 0.1598 - val_accuracy: 0.9512\n",
      "Epoch 47/50\n",
      "62/62 [==============================] - 20s 323ms/step - loss: 0.0020 - accuracy: 1.0000 - val_loss: 0.1640 - val_accuracy: 0.9542\n",
      "Epoch 48/50\n",
      "62/62 [==============================] - 20s 323ms/step - loss: 0.0015 - accuracy: 1.0000 - val_loss: 0.1570 - val_accuracy: 0.9542\n",
      "Epoch 49/50\n",
      "62/62 [==============================] - 20s 323ms/step - loss: 0.0017 - accuracy: 1.0000 - val_loss: 0.1635 - val_accuracy: 0.9542\n",
      "Epoch 50/50\n",
      "62/62 [==============================] - 20s 324ms/step - loss: 0.0016 - accuracy: 0.9997 - val_loss: 0.1657 - val_accuracy: 0.9552\n"
     ]
    }
   ],
   "source": [
    "history = model.fit(train.flow(X_train, y_train, batch_size=64,\n",
    "         subset='training'),validation_data=train.flow(X_train, y_train,\n",
    "         batch_size=16, subset='validation'), epochs=50,  callbacks=[tensorboard_callback])\n"
   ]
  },
  {
   "cell_type": "code",
   "execution_count": 14,
   "metadata": {},
   "outputs": [
    {
     "data": {
      "image/png": "[encoded data removed]",
      "text/plain": [
       "<Figure size 432x288 with 1 Axes>"
      ]
     },
     "metadata": {
      "needs_background": "light"
     },
     "output_type": "display_data"
    }
   ],
   "source": [
    "# Plot the loss  curves for training and validation \n",
    "fig = plt.figure()\n",
    "plt.plot(history.history['loss'], color='teal', label='loss')\n",
    "plt.plot(history.history['val_loss'], color='orange', label='val_loss')\n",
    "fig.suptitle('Loss', fontsize=20)\n",
    "plt.legend(loc=\"upper left\")\n",
    "plt.show()"
   ]
  },
  {
   "cell_type": "code",
   "execution_count": 15,
   "metadata": {},
   "outputs": [
    {
     "data": {
      "image/png": "[encoded data removed]",
      "text/plain": [
       "<Figure size 432x288 with 1 Axes>"
      ]
     },
     "metadata": {
      "needs_background": "light"
     },
     "output_type": "display_data"
    }
   ],
   "source": [
    "# Plot the loss  accuracy for training and validation \n",
    "fig = plt.figure()\n",
    "plt.plot(history.history['accuracy'], color='teal', label='accuracy')\n",
    "plt.plot(history.history['val_accuracy'], color='orange', label='val_accuracy')\n",
    "fig.suptitle('Accuracy', fontsize=20)\n",
    "plt.legend(loc=\"upper left\")\n",
    "plt.show()"
   ]
  },
  {
   "cell_type": "code",
   "execution_count": 16,
   "metadata": {},
   "outputs": [],
   "source": [
    "from tensorflow.keras.models import load_model\n",
    "#model.save(os.path.join('models','Xcep_model.h5'))"
   ]
  },
  {
   "cell_type": "code",
   "execution_count": 8,
   "metadata": {},
   "outputs": [],
   "source": [
    "from tensorflow.keras.models import load_model\n",
    "Xcep_model = load_model('models/Xcep_model.h5')"
   ]
  },
  {
   "cell_type": "code",
   "execution_count": 9,
   "metadata": {},
   "outputs": [
    {
     "name": "stdout",
     "output_type": "stream",
     "text": [
      "66/66 [==============================] - 52s 634ms/step - loss: 0.1866 - accuracy: 0.9540\n",
      "Test loss: 0.1865958720445633\n",
      "Test accuracy: 0.9539629817008972\n"
     ]
    }
   ],
   "source": [
    "X_test = X_test/255\n",
    "\n",
    "score_cnn = Xcep_model.evaluate(X_test,y_test)\n",
    "\n",
    "print('Test loss:', score_cnn[0]) \n",
    "print('Test accuracy:', score_cnn[1])"
   ]
  },
  {
   "cell_type": "code",
   "execution_count": 10,
   "metadata": {},
   "outputs": [],
   "source": [
    "import matplotlib.pyplot as plt\n",
    "import numpy as np\n",
    "import pandas as pd\n",
    "import seaborn as sns\n",
    "import random\n",
    "import matplotlib.cm as cm\n",
    "\n",
    "from sklearn.metrics import classification_report, confusion_matrix"
   ]
  },
  {
   "cell_type": "code",
   "execution_count": 11,
   "metadata": {},
   "outputs": [],
   "source": [
    "\n",
    "def print_confusion_matrix(confusion_matrix, class_names, figsize = (12, 12), fontsize=14):\n",
    "    group_counts = [\"{0:0.0f}\".format(value) for value in\n",
    "                    confusion_matrix.flatten()]\n",
    "\n",
    "    group_percentages = [\"{0:.2%}\".format(value) for value in\n",
    "                         confusion_matrix.flatten() / np.sum(confusion_matrix)]\n",
    "\n",
    "    labels = [f\"{v2}\\n{v3}\" for v2, v3 in\n",
    "              zip(group_counts, group_percentages)]\n",
    "    labels = np.asarray(labels).reshape(len(class_names), len(class_names))\n",
    "\n",
    "    \n",
    "    df_cm = pd.DataFrame(\n",
    "        confusion_matrix, index=class_names, columns=class_names, \n",
    "    )\n",
    "    fig = plt.figure(figsize=figsize)\n",
    "    try:\n",
    "        heatmap = sns.heatmap(df_cm, annot=labels, fmt='', cmap='Blues')\n",
    "\n",
    "    except ValueError:\n",
    "        raise ValueError(\"Confusion matrix values must be integers.\")\n",
    "    heatmap.yaxis.set_ticklabels(heatmap.yaxis.get_ticklabels(), rotation=0, ha='right', fontsize=fontsize)\n",
    "    heatmap.xaxis.set_ticklabels(heatmap.xaxis.get_ticklabels(), rotation=45, ha='right', fontsize=fontsize)\n",
    "    plt.ylabel('True label')\n",
    "    plt.xlabel('Predicted label')\n",
    "    # Note that due to returning the created figure object, when this funciton is called in a notebook\n",
    "    # the figure willl be printed twice. To prevent this, either append ; to your function call, or\n",
    "    # modify the function by commenting out this return expression.\n",
    "    return fig"
   ]
  },
  {
   "cell_type": "code",
   "execution_count": 14,
   "metadata": {},
   "outputs": [
    {
     "data": {
      "image/png": "[encoded data removed]",
      "text/plain": [
       "<Figure size 864x864 with 2 Axes>"
      ]
     },
     "metadata": {
      "needs_background": "light"
     },
     "output_type": "display_data"
    }
   ],
   "source": [
    "pred = Xcep_model.predict(X_test)\n",
    "y_test = y_test.argmax(axis=1)\n",
    "\n",
    "# take the argmax for each set of prediction scores\n",
    "# to return the class id of the highest confidence prediction\n",
    "pred_ids = pred.argmax(axis=1)\n",
    "conf_mat = confusion_matrix(y_test, pred_ids)\n",
    "figure = print_confusion_matrix(conf_mat, labels)\n",
    "plt.title('Confusion Matrix')\n",
    "plt.show()"
   ]
  },
  {
   "cell_type": "code",
   "execution_count": 15,
   "metadata": {},
   "outputs": [
    {
     "name": "stdout",
     "output_type": "stream",
     "text": [
      "accuracy= 0.9513972188586296\n",
      "recall/senstivity= 0.9539629805410537\n",
      "precision= 0.9549902026844261\n",
      "f1_score= 0.9541832283946398\n"
     ]
    }
   ],
   "source": [
    "import sklearn.metrics as skm\n",
    "print(\"accuracy=\",skm.balanced_accuracy_score(y_test, pred_ids))\n",
    "print(\"recall/senstivity=\",skm.recall_score(y_test, pred_ids,average='weighted'))\n",
    "print(\"precision=\",skm.precision_score(y_test, pred_ids,average='weighted'))\n",
    "print(\"f1_score=\",skm.f1_score(y_test, pred_ids,average='weighted'))"
   ]
  },
  {
   "cell_type": "code",
   "execution_count": null,
   "metadata": {},
   "outputs": [],
   "source": []
  }
 ],
 "metadata": {
  "kernelspec": {
   "display_name": "Python 3 (ipykernel)",
   "language": "python",
   "name": "python3"
  },
  "language_info": {
   "codemirror_mode": {
    "name": "ipython",
    "version": 3
   },
   "file_extension": ".py",
   "mimetype": "text/x-python",
   "name": "python",
   "nbconvert_exporter": "python",
   "pygments_lexer": "ipython3",
   "version": "3.9.13"
  }
 },
 "nbformat": 4,
 "nbformat_minor": 4
}
