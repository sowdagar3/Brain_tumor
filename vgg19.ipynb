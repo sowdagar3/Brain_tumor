{
 "cells": [
  {
   "cell_type": "code",
   "execution_count": 1,
   "metadata": {},
   "outputs": [],
   "source": [
    "import cv2\n",
    "import imghdr\n",
    "import tensorflow as tf\n",
    "import os\n",
    "from matplotlib import pyplot as plt\n",
    "import numpy as np"
   ]
  },
  {
   "cell_type": "code",
   "execution_count": 2,
   "metadata": {},
   "outputs": [],
   "source": [
    "X_train = []\n",
    "y_train = []\n",
    "X_test = []\n",
    "y_test = []\n",
    "image_size = 224\n",
    "labels = ['glioma','notumor','meningioma','pituitary']\n",
    "for i in labels:\n",
    "    folderPath = os.path.join('E:/anamika_maam/brain/Training',i)\n",
    "    for j in os.listdir(folderPath):\n",
    "        img = cv2.imread(os.path.join(folderPath,j))\n",
    "        img = cv2.resize(img,(image_size, image_size))\n",
    "        X_train.append(img)\n",
    "        y_train.append(i)\n",
    "        \n",
    "for i in labels:\n",
    "    folderPath = os.path.join('E:/anamika_maam/brain/Testing',i)\n",
    "    for j in os.listdir(folderPath):\n",
    "        img = cv2.imread(os.path.join(folderPath,j))\n",
    "        img = cv2.resize(img,(image_size,image_size))\n",
    "        X_train.append(img)\n",
    "        y_train.append(i)\n",
    "        \n",
    "X_train = np.array(X_train)\n",
    "y_train = np.array(y_train)\n",
    "        \n"
   ]
  },
  {
   "cell_type": "code",
   "execution_count": 3,
   "metadata": {},
   "outputs": [
    {
     "data": {
      "text/plain": [
       "(7022, 224, 224, 3)"
      ]
     },
     "execution_count": 3,
     "metadata": {},
     "output_type": "execute_result"
    }
   ],
   "source": [
    "from sklearn.utils import shuffle\n",
    "X_train,y_train=shuffle(X_train,y_train,random_state=101)\n",
    "X_train.shape"
   ]
  },
  {
   "cell_type": "code",
   "execution_count": 4,
   "metadata": {},
   "outputs": [],
   "source": [
    "from sklearn.model_selection import train_test_split\n",
    "X_train,X_test,y_train,y_test=train_test_split(X_train,y_train,test_size=.3,random_state=45)"
   ]
  },
  {
   "cell_type": "code",
   "execution_count": 5,
   "metadata": {},
   "outputs": [],
   "source": [
    "\n",
    "train = tf.keras.preprocessing.image.ImageDataGenerator(rescale=1./255,validation_split=0.2)\n",
    "train.fit(X_train)\n",
    "\n"
   ]
  },
  {
   "cell_type": "code",
   "execution_count": 6,
   "metadata": {},
   "outputs": [],
   "source": [
    "y_train_new = []\n",
    "for i in y_train:\n",
    "    y_train_new.append(labels.index(i))\n",
    "y_train = y_train_new\n",
    "y_train = tf.keras.utils.to_categorical(y_train)"
   ]
  },
  {
   "cell_type": "code",
   "execution_count": 7,
   "metadata": {},
   "outputs": [],
   "source": [
    "y_test_new = []\n",
    "for i in y_test:\n",
    "    y_test_new.append(labels.index(i))\n",
    "y_test = y_test_new\n",
    "y_test = tf.keras.utils.to_categorical(y_test)"
   ]
  },
  {
   "cell_type": "code",
   "execution_count": 8,
   "metadata": {},
   "outputs": [
    {
     "name": "stdout",
     "output_type": "stream",
     "text": [
      "Downloading data from https://storage.googleapis.com/tensorflow/keras-applications/vgg19/vgg19_weights_tf_dim_ordering_tf_kernels_notop.h5\n",
      "80142336/80134624 [==============================] - 46s 1us/step\n",
      "80150528/80134624 [==============================] - 46s 1us/step\n"
     ]
    }
   ],
   "source": [
    "from tensorflow.keras.layers import *\n",
    "\n",
    "vgg16_model=tf.keras.applications.VGG19(include_top=False,weights=\"imagenet\",input_tensor=None,input_shape=(224, 224, 3))\n",
    "\n",
    "for l in vgg16_model.layers:\n",
    "# Freezing the model\n",
    "  l.trainable = False"
   ]
  },
  {
   "cell_type": "code",
   "execution_count": 9,
   "metadata": {},
   "outputs": [],
   "source": [
    "logdir='logs'\n",
    "tensorboard_callback = tf.keras.callbacks.TensorBoard(log_dir=logdir)"
   ]
  },
  {
   "cell_type": "code",
   "execution_count": 11,
   "metadata": {},
   "outputs": [],
   "source": [
    "from tensorflow.keras.models import *\n",
    "model = Sequential()\n",
    "model.add(Input(shape=(224,224,3)))\n",
    "model.add(vgg16_model)\n",
    "model.add(Flatten())\n",
    "model.add(Dropout(0.25))\n",
    "model.add(Dense(128, activation='relu'))\n",
    "model.add(Dropout(0.2))\n",
    "model.add(Dense(4, activation='softmax')) \n"
   ]
  },
  {
   "cell_type": "code",
   "execution_count": 12,
   "metadata": {},
   "outputs": [
    {
     "name": "stdout",
     "output_type": "stream",
     "text": [
      "Model: \"sequential_1\"\n",
      "_________________________________________________________________\n",
      " Layer (type)                Output Shape              Param #   \n",
      "=================================================================\n",
      " vgg19 (Functional)          (None, 7, 7, 512)         20024384  \n",
      "                                                                 \n",
      " flatten (Flatten)           (None, 25088)             0         \n",
      "                                                                 \n",
      " dropout (Dropout)           (None, 25088)             0         \n",
      "                                                                 \n",
      " dense (Dense)               (None, 128)               3211392   \n",
      "                                                                 \n",
      " dropout_1 (Dropout)         (None, 128)               0         \n",
      "                                                                 \n",
      " dense_1 (Dense)             (None, 4)                 516       \n",
      "                                                                 \n",
      "=================================================================\n",
      "Total params: 23,236,292\n",
      "Trainable params: 3,211,908\n",
      "Non-trainable params: 20,024,384\n",
      "_________________________________________________________________\n"
     ]
    },
    {
     "name": "stderr",
     "output_type": "stream",
     "text": [
      "C:\\Users\\Umesh\\AppData\\Local\\Programs\\Python\\Python39\\lib\\site-packages\\keras\\optimizer_v2\\adam.py:105: UserWarning: The `lr` argument is deprecated, use `learning_rate` instead.\n",
      "  super(Adam, self).__init__(name, **kwargs)\n"
     ]
    }
   ],
   "source": [
    "model.compile(loss='categorical_crossentropy',optimizer=tf.optimizers.Adam(lr=3e-5) ,metrics='accuracy')\n",
    "model.summary()"
   ]
  },
  {
   "cell_type": "code",
   "execution_count": 13,
   "metadata": {},
   "outputs": [
    {
     "name": "stdout",
     "output_type": "stream",
     "text": [
      "Epoch 1/50\n",
      "62/62 [==============================] - 51s 578ms/step - loss: 0.9919 - accuracy: 0.5821 - val_loss: 0.5992 - val_accuracy: 0.7843\n",
      "Epoch 2/50\n",
      "62/62 [==============================] - 31s 492ms/step - loss: 0.6114 - accuracy: 0.7726 - val_loss: 0.4688 - val_accuracy: 0.8199\n",
      "Epoch 3/50\n",
      "62/62 [==============================] - 31s 495ms/step - loss: 0.5103 - accuracy: 0.7968 - val_loss: 0.4143 - val_accuracy: 0.8474\n",
      "Epoch 4/50\n",
      "62/62 [==============================] - 31s 499ms/step - loss: 0.4351 - accuracy: 0.8375 - val_loss: 0.3344 - val_accuracy: 0.8830\n",
      "Epoch 5/50\n",
      "62/62 [==============================] - 30s 480ms/step - loss: 0.3813 - accuracy: 0.8596 - val_loss: 0.3081 - val_accuracy: 0.8779\n",
      "Epoch 6/50\n",
      "62/62 [==============================] - 29s 476ms/step - loss: 0.3492 - accuracy: 0.8741 - val_loss: 0.2876 - val_accuracy: 0.8983\n",
      "Epoch 7/50\n",
      "62/62 [==============================] - 29s 472ms/step - loss: 0.3302 - accuracy: 0.8820 - val_loss: 0.2696 - val_accuracy: 0.8973\n",
      "Epoch 8/50\n",
      "62/62 [==============================] - 29s 470ms/step - loss: 0.3028 - accuracy: 0.8932 - val_loss: 0.2545 - val_accuracy: 0.9013\n",
      "Epoch 9/50\n",
      "62/62 [==============================] - 29s 470ms/step - loss: 0.2920 - accuracy: 0.8934 - val_loss: 0.2536 - val_accuracy: 0.8932\n",
      "Epoch 10/50\n",
      "62/62 [==============================] - 29s 470ms/step - loss: 0.2793 - accuracy: 0.8995 - val_loss: 0.2470 - val_accuracy: 0.9105\n",
      "Epoch 11/50\n",
      "62/62 [==============================] - 29s 473ms/step - loss: 0.2582 - accuracy: 0.9095 - val_loss: 0.2256 - val_accuracy: 0.9125\n",
      "Epoch 12/50\n",
      "62/62 [==============================] - 29s 469ms/step - loss: 0.2396 - accuracy: 0.9138 - val_loss: 0.2172 - val_accuracy: 0.9145\n",
      "Epoch 13/50\n",
      "62/62 [==============================] - 29s 470ms/step - loss: 0.2304 - accuracy: 0.9207 - val_loss: 0.2129 - val_accuracy: 0.9105\n",
      "Epoch 14/50\n",
      "62/62 [==============================] - 29s 475ms/step - loss: 0.2170 - accuracy: 0.9217 - val_loss: 0.2050 - val_accuracy: 0.9156\n",
      "Epoch 15/50\n",
      "62/62 [==============================] - 29s 475ms/step - loss: 0.2106 - accuracy: 0.9245 - val_loss: 0.2017 - val_accuracy: 0.9196\n",
      "Epoch 16/50\n",
      "62/62 [==============================] - 29s 469ms/step - loss: 0.2086 - accuracy: 0.9298 - val_loss: 0.2043 - val_accuracy: 0.9105\n",
      "Epoch 17/50\n",
      "62/62 [==============================] - 29s 471ms/step - loss: 0.1966 - accuracy: 0.9334 - val_loss: 0.1848 - val_accuracy: 0.9196\n",
      "Epoch 18/50\n",
      "62/62 [==============================] - 29s 471ms/step - loss: 0.1853 - accuracy: 0.9326 - val_loss: 0.2134 - val_accuracy: 0.9095\n",
      "Epoch 19/50\n",
      "62/62 [==============================] - 29s 471ms/step - loss: 0.1802 - accuracy: 0.9339 - val_loss: 0.1752 - val_accuracy: 0.9298\n",
      "Epoch 20/50\n",
      "62/62 [==============================] - 29s 470ms/step - loss: 0.1672 - accuracy: 0.9433 - val_loss: 0.1773 - val_accuracy: 0.9298\n",
      "Epoch 21/50\n",
      "62/62 [==============================] - 29s 472ms/step - loss: 0.1611 - accuracy: 0.9471 - val_loss: 0.1883 - val_accuracy: 0.9176\n",
      "Epoch 22/50\n",
      "62/62 [==============================] - 29s 472ms/step - loss: 0.1542 - accuracy: 0.9466 - val_loss: 0.1738 - val_accuracy: 0.9278\n",
      "Epoch 23/50\n",
      "62/62 [==============================] - 29s 471ms/step - loss: 0.1530 - accuracy: 0.9496 - val_loss: 0.1651 - val_accuracy: 0.9298\n",
      "Epoch 24/50\n",
      "62/62 [==============================] - 29s 474ms/step - loss: 0.1437 - accuracy: 0.9542 - val_loss: 0.1605 - val_accuracy: 0.9298\n",
      "Epoch 25/50\n",
      "62/62 [==============================] - 29s 475ms/step - loss: 0.1410 - accuracy: 0.9512 - val_loss: 0.1548 - val_accuracy: 0.9339\n",
      "Epoch 26/50\n",
      "62/62 [==============================] - 30s 482ms/step - loss: 0.1389 - accuracy: 0.9540 - val_loss: 0.1521 - val_accuracy: 0.9390\n",
      "Epoch 27/50\n",
      "62/62 [==============================] - 29s 476ms/step - loss: 0.1313 - accuracy: 0.9557 - val_loss: 0.1531 - val_accuracy: 0.9379\n",
      "Epoch 28/50\n",
      "62/62 [==============================] - 30s 481ms/step - loss: 0.1237 - accuracy: 0.9598 - val_loss: 0.1498 - val_accuracy: 0.9349\n",
      "Epoch 29/50\n",
      "62/62 [==============================] - 30s 482ms/step - loss: 0.1154 - accuracy: 0.9662 - val_loss: 0.1434 - val_accuracy: 0.9430\n",
      "Epoch 30/50\n",
      "62/62 [==============================] - 30s 480ms/step - loss: 0.1188 - accuracy: 0.9591 - val_loss: 0.1847 - val_accuracy: 0.9288\n",
      "Epoch 31/50\n",
      "62/62 [==============================] - 30s 480ms/step - loss: 0.1220 - accuracy: 0.9580 - val_loss: 0.1426 - val_accuracy: 0.9410\n",
      "Epoch 32/50\n",
      "62/62 [==============================] - 29s 474ms/step - loss: 0.1055 - accuracy: 0.9710 - val_loss: 0.1573 - val_accuracy: 0.9329\n",
      "Epoch 33/50\n",
      "62/62 [==============================] - 29s 475ms/step - loss: 0.1031 - accuracy: 0.9677 - val_loss: 0.1406 - val_accuracy: 0.9481\n",
      "Epoch 34/50\n",
      "62/62 [==============================] - 29s 475ms/step - loss: 0.1038 - accuracy: 0.9702 - val_loss: 0.1381 - val_accuracy: 0.9461\n",
      "Epoch 35/50\n",
      "62/62 [==============================] - 29s 475ms/step - loss: 0.1044 - accuracy: 0.9644 - val_loss: 0.1377 - val_accuracy: 0.9430\n",
      "Epoch 36/50\n",
      "62/62 [==============================] - 29s 474ms/step - loss: 0.0947 - accuracy: 0.9697 - val_loss: 0.1309 - val_accuracy: 0.9512\n",
      "Epoch 37/50\n",
      "62/62 [==============================] - 29s 475ms/step - loss: 0.0915 - accuracy: 0.9763 - val_loss: 0.1432 - val_accuracy: 0.9420\n",
      "Epoch 38/50\n",
      "62/62 [==============================] - 29s 474ms/step - loss: 0.0914 - accuracy: 0.9733 - val_loss: 0.1337 - val_accuracy: 0.9491\n",
      "Epoch 39/50\n",
      "62/62 [==============================] - 29s 474ms/step - loss: 0.0914 - accuracy: 0.9741 - val_loss: 0.1322 - val_accuracy: 0.9471\n",
      "Epoch 40/50\n",
      "62/62 [==============================] - 29s 475ms/step - loss: 0.0810 - accuracy: 0.9756 - val_loss: 0.1288 - val_accuracy: 0.9451\n",
      "Epoch 41/50\n",
      "62/62 [==============================] - 29s 474ms/step - loss: 0.0806 - accuracy: 0.9802 - val_loss: 0.1314 - val_accuracy: 0.9481\n",
      "Epoch 42/50\n",
      "62/62 [==============================] - 29s 475ms/step - loss: 0.0827 - accuracy: 0.9748 - val_loss: 0.1399 - val_accuracy: 0.9430\n",
      "Epoch 43/50\n",
      "62/62 [==============================] - 29s 474ms/step - loss: 0.0847 - accuracy: 0.9756 - val_loss: 0.1396 - val_accuracy: 0.9471\n",
      "Epoch 44/50\n",
      "62/62 [==============================] - 29s 474ms/step - loss: 0.0737 - accuracy: 0.9797 - val_loss: 0.1292 - val_accuracy: 0.9491\n",
      "Epoch 45/50\n",
      "62/62 [==============================] - 29s 474ms/step - loss: 0.0759 - accuracy: 0.9781 - val_loss: 0.1258 - val_accuracy: 0.9471\n",
      "Epoch 46/50\n",
      "62/62 [==============================] - 29s 475ms/step - loss: 0.0729 - accuracy: 0.9799 - val_loss: 0.1207 - val_accuracy: 0.9542\n",
      "Epoch 47/50\n",
      "62/62 [==============================] - 29s 475ms/step - loss: 0.0738 - accuracy: 0.9779 - val_loss: 0.1281 - val_accuracy: 0.9440\n",
      "Epoch 48/50\n",
      "62/62 [==============================] - 29s 474ms/step - loss: 0.0700 - accuracy: 0.9814 - val_loss: 0.1222 - val_accuracy: 0.9573\n",
      "Epoch 49/50\n",
      "62/62 [==============================] - 29s 474ms/step - loss: 0.0696 - accuracy: 0.9812 - val_loss: 0.1265 - val_accuracy: 0.9471\n",
      "Epoch 50/50\n",
      "62/62 [==============================] - 29s 474ms/step - loss: 0.0667 - accuracy: 0.9835 - val_loss: 0.1190 - val_accuracy: 0.9512\n"
     ]
    }
   ],
   "source": [
    "history = model.fit(train.flow(X_train, y_train, batch_size=64,\n",
    "         subset='training'),validation_data=train.flow(X_train, y_train,\n",
    "         batch_size=16, subset='validation'), epochs=50,  callbacks=[tensorboard_callback])\n"
   ]
  },
  {
   "cell_type": "code",
   "execution_count": 14,
   "metadata": {},
   "outputs": [
    {
     "data": {
      "image/png": "[encoded data removed]",
      "text/plain": [
       "<Figure size 432x288 with 1 Axes>"
      ]
     },
     "metadata": {
      "needs_background": "light"
     },
     "output_type": "display_data"
    }
   ],
   "source": [
    "# Plot the loss  curves for training and validation \n",
    "fig = plt.figure()\n",
    "plt.plot(history.history['loss'], color='teal', label='loss')\n",
    "plt.plot(history.history['val_loss'], color='orange', label='val_loss')\n",
    "fig.suptitle('Loss', fontsize=20)\n",
    "plt.legend(loc=\"upper left\")\n",
    "plt.show()"
   ]
  },
  {
   "cell_type": "code",
   "execution_count": 15,
   "metadata": {},
   "outputs": [
    {
     "data": {
      "image/png": "[encoded data removed]",
      "text/plain": [
       "<Figure size 432x288 with 1 Axes>"
      ]
     },
     "metadata": {
      "needs_background": "light"
     },
     "output_type": "display_data"
    }
   ],
   "source": [
    "# Plot the loss  accuracy for training and validation \n",
    "fig = plt.figure()\n",
    "plt.plot(history.history['accuracy'], color='teal', label='accuracy')\n",
    "plt.plot(history.history['val_accuracy'], color='orange', label='val_accuracy')\n",
    "fig.suptitle('Accuracy', fontsize=20)\n",
    "plt.legend(loc=\"upper left\")\n",
    "plt.show()"
   ]
  },
  {
   "cell_type": "code",
   "execution_count": 16,
   "metadata": {},
   "outputs": [],
   "source": [
    "#model.save(os.path.join('models','vgg16_model.h5'))"
   ]
  },
  {
   "cell_type": "code",
   "execution_count": 8,
   "metadata": {},
   "outputs": [],
   "source": [
    "from tensorflow.keras.models import load_model\n",
    "vgg16_model = load_model('models/vgg16_model.h5')"
   ]
  },
  {
   "cell_type": "code",
   "execution_count": 9,
   "metadata": {},
   "outputs": [
    {
     "name": "stdout",
     "output_type": "stream",
     "text": [
      "66/66 [==============================] - 21s 243ms/step - loss: 0.1478 - accuracy: 0.9502\n",
      "Test loss: 0.14775706827640533\n",
      "Test accuracy: 0.9501661062240601\n"
     ]
    }
   ],
   "source": [
    "X_test = X_test/255\n",
    "\n",
    "score_cnn = vgg16_model.evaluate(X_test,y_test)\n",
    "\n",
    "print('Test loss:', score_cnn[0]) \n",
    "print('Test accuracy:', score_cnn[1])"
   ]
  },
  {
   "cell_type": "code",
   "execution_count": null,
   "metadata": {},
   "outputs": [],
   "source": [
    "import matplotlib.pyplot as plt\n",
    "import numpy as np\n",
    "import pandas as pd\n",
    "import seaborn as sns\n",
    "import random\n",
    "import matplotlib.cm as cm\n",
    "\n",
    "from sklearn.metrics import classification_report, confusion_matrix"
   ]
  },
  {
   "cell_type": "code",
   "execution_count": null,
   "metadata": {},
   "outputs": [],
   "source": [
    "\n",
    "def print_confusion_matrix(confusion_matrix, class_names, figsize = (12, 12), fontsize=14):\n",
    "    group_counts = [\"{0:0.0f}\".format(value) for value in\n",
    "                    confusion_matrix.flatten()]\n",
    "\n",
    "    group_percentages = [\"{0:.2%}\".format(value) for value in\n",
    "                         confusion_matrix.flatten() / np.sum(confusion_matrix)]\n",
    "\n",
    "    labels = [f\"{v2}\\n{v3}\" for v2, v3 in\n",
    "              zip(group_counts, group_percentages)]\n",
    "    labels = np.asarray(labels).reshape(len(class_names), len(class_names))\n",
    "\n",
    "    \n",
    "    df_cm = pd.DataFrame(\n",
    "        confusion_matrix, index=class_names, columns=class_names, \n",
    "    )\n",
    "    fig = plt.figure(figsize=figsize)\n",
    "    try:\n",
    "        heatmap = sns.heatmap(df_cm, annot=labels, fmt='', cmap='Blues')\n",
    "\n",
    "    except ValueError:\n",
    "        raise ValueError(\"Confusion matrix values must be integers.\")\n",
    "    heatmap.yaxis.set_ticklabels(heatmap.yaxis.get_ticklabels(), rotation=0, ha='right', fontsize=fontsize)\n",
    "    heatmap.xaxis.set_ticklabels(heatmap.xaxis.get_ticklabels(), rotation=45, ha='right', fontsize=fontsize)\n",
    "    plt.ylabel('True label')\n",
    "    plt.xlabel('Predicted label')\n",
    "    # Note that due to returning the created figure object, when this funciton is called in a notebook\n",
    "    # the figure willl be printed twice. To prevent this, either append ; to your function call, or\n",
    "    # modify the function by commenting out this return expression.\n",
    "    return fig"
   ]
  },
  {
   "cell_type": "code",
   "execution_count": 16,
   "metadata": {
    "jupyter": {
     "source_hidden": true
    }
   },
   "outputs": [
    {
     "data": {
      "image/png": "[encoded data removed]",
      "text/plain": [
       "<Figure size 864x864 with 2 Axes>"
      ]
     },
     "metadata": {
      "needs_background": "light"
     },
     "output_type": "display_data"
    }
   ],
   "source": [
    "pred = vgg16_model.predict(X_test)\n",
    "y_test = y_test.argmax(axis=1)\n",
    "\n",
    "# take the argmax for each set of prediction scores\n",
    "# to return the class id of the highest confidence prediction\n",
    "pred_ids = pred.argmax(axis=1)\n",
    "conf_mat = confusion_matrix(y_test, pred_ids)\n",
    "figure = print_confusion_matrix(conf_mat, labels)\n",
    "plt.title('Confusion Matrix')\n",
    "plt.show()"
   ]
  },
  {
   "cell_type": "code",
   "execution_count": null,
   "metadata": {},
   "outputs": [],
   "source": [
    "import sklearn.metrics as skm\n",
    "print(\"accuracy=\",skm.balanced_accuracy_score(y_test, pred_ids))\n",
    "print(\"recall/senstivity=\",skm.recall_score(y_test, pred_ids,average='weighted'))\n",
    "print(\"precision=\",skm.precision_score(y_test, pred_ids,average='weighted'))\n",
    "print(\"f1_score=\",skm.f1_score(y_test, pred_ids,average='weighted'))"
   ]
  }
 ],
 "metadata": {
  "kernelspec": {
   "display_name": "braintumor",
   "language": "python",
   "name": "braintumor"
  },
  "language_info": {
   "codemirror_mode": {
    "name": "ipython",
    "version": 3
   },
   "file_extension": ".py",
   "mimetype": "text/x-python",
   "name": "python",
   "nbconvert_exporter": "python",
   "pygments_lexer": "ipython3",
   "version": "3.9.1"
  }
 },
 "nbformat": 4,
 "nbformat_minor": 4
}
