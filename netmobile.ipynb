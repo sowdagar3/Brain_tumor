{
 "cells": [
  {
   "cell_type": "code",
   "execution_count": 1,
   "metadata": {},
   "outputs": [],
   "source": [
    "import cv2\n",
    "import imghdr\n",
    "import tensorflow as tf\n",
    "import os\n",
    "from matplotlib import pyplot as plt\n",
    "import numpy as np"
   ]
  },
  {
   "cell_type": "markdown",
   "metadata": {},
   "source": [
    "data_dir = 'E:/anamika_maam/brainTumor/Training' "
   ]
  },
  {
   "cell_type": "markdown",
   "metadata": {},
   "source": [
    "image_exts = ['jpeg','jpg', 'bmp', 'png']"
   ]
  },
  {
   "cell_type": "markdown",
   "metadata": {},
   "source": [
    "for image_class in os.listdir(data_dir): \n",
    "    for image in os.listdir(os.path.join(data_dir, image_class)):\n",
    "        image_path = os.path.join(data_dir, image_class, image)\n",
    "        try: \n",
    "            img = cv2.imread(image_path)\n",
    "            tip = imghdr.what(image_path)\n",
    "            if tip not in image_exts: \n",
    "                print('Image not in ext list {}'.format(image_path))\n",
    "                os.remove(image_path)\n",
    "        except Exception as e: \n",
    "            print('Issue with image {}'.format(image_path))\n",
    "            # os.remove(image_path)"
   ]
  },
  {
   "cell_type": "markdown",
   "metadata": {},
   "source": [
    "data = tf.keras.utils.image_dataset_from_directory('E:/anamika_maam/brainTumor/Training')"
   ]
  },
  {
   "cell_type": "markdown",
   "metadata": {},
   "source": [
    "preprocessing"
   ]
  },
  {
   "cell_type": "code",
   "execution_count": 2,
   "metadata": {},
   "outputs": [],
   "source": [
    "X_train = []\n",
    "y_train = []\n",
    "X_test = []\n",
    "y_test = []\n",
    "image_size = 224\n",
    "labels = ['glioma','notumor','meningioma','pituitary']\n",
    "for i in labels:\n",
    "    folderPath = os.path.join('E:/anamika_maam/brain/Training',i)\n",
    "    for j in os.listdir(folderPath):\n",
    "        img = cv2.imread(os.path.join(folderPath,j))\n",
    "        img = cv2.resize(img,(image_size, image_size))\n",
    "        X_train.append(img)\n",
    "        y_train.append(i)\n",
    "        \n",
    "for i in labels:\n",
    "    folderPath = os.path.join('E:/anamika_maam/brain/Testing',i)\n",
    "    for j in os.listdir(folderPath):\n",
    "        img = cv2.imread(os.path.join(folderPath,j))\n",
    "        img = cv2.resize(img,(image_size,image_size))\n",
    "        X_train.append(img)\n",
    "        y_train.append(i)\n",
    "        \n",
    "X_train = np.array(X_train)\n",
    "y_train = np.array(y_train)\n",
    "        \n"
   ]
  },
  {
   "cell_type": "code",
   "execution_count": 3,
   "metadata": {},
   "outputs": [
    {
     "data": {
      "text/plain": [
       "(7022, 224, 224, 3)"
      ]
     },
     "execution_count": 3,
     "metadata": {},
     "output_type": "execute_result"
    }
   ],
   "source": [
    "from sklearn.utils import shuffle\n",
    "X_train,y_train=shuffle(X_train,y_train,random_state=101)\n",
    "X_train.shape"
   ]
  },
  {
   "cell_type": "code",
   "execution_count": 4,
   "metadata": {},
   "outputs": [],
   "source": [
    "from sklearn.model_selection import train_test_split\n",
    "X_train,X_test,y_train,y_test=train_test_split(X_train,y_train,test_size=.3,random_state=45)"
   ]
  },
  {
   "cell_type": "code",
   "execution_count": 5,
   "metadata": {},
   "outputs": [],
   "source": [
    "\n",
    "train = tf.keras.preprocessing.image.ImageDataGenerator(rescale=1./255,validation_split=0.2)\n",
    "train.fit(X_train)\n",
    "\n"
   ]
  },
  {
   "cell_type": "code",
   "execution_count": 6,
   "metadata": {},
   "outputs": [],
   "source": [
    "y_train_new = []\n",
    "for i in y_train:\n",
    "    y_train_new.append(labels.index(i))\n",
    "y_train = y_train_new\n",
    "y_train = tf.keras.utils.to_categorical(y_train)"
   ]
  },
  {
   "cell_type": "code",
   "execution_count": 7,
   "metadata": {},
   "outputs": [],
   "source": [
    "y_test_new = []\n",
    "for i in y_test:\n",
    "    y_test_new.append(labels.index(i))\n",
    "y_test = y_test_new\n",
    "y_test = tf.keras.utils.to_categorical(y_test)"
   ]
  },
  {
   "cell_type": "markdown",
   "metadata": {},
   "source": [
    "callback(early stop condition)"
   ]
  },
  {
   "cell_type": "code",
   "execution_count": 9,
   "metadata": {},
   "outputs": [],
   "source": [
    "from tensorflow.keras.layers import GlobalAveragePooling2D, Dense, BatchNormalization, Dropout, Flatten, Conv2D, MaxPooling2D\n",
    "from tensorflow.keras.applications.nasnet import NASNetMobile\n",
    "Nasnet_model = NASNetMobile(weights='imagenet', include_top=False, input_shape=(224, 224, 3))\n",
    "for l in Nasnet_model.layers:\n",
    "# Freezing the model\n",
    "  l.trainable = False"
   ]
  },
  {
   "cell_type": "code",
   "execution_count": 10,
   "metadata": {},
   "outputs": [],
   "source": [
    "logdir='logs'\n",
    "tensorboard_callback = tf.keras.callbacks.TensorBoard(log_dir=logdir)"
   ]
  },
  {
   "cell_type": "code",
   "execution_count": 13,
   "metadata": {},
   "outputs": [],
   "source": [
    "from tensorflow.keras.models import *\n",
    "from tensorflow.keras.layers import *"
   ]
  },
  {
   "cell_type": "code",
   "execution_count": 14,
   "metadata": {},
   "outputs": [],
   "source": [
    "model = Sequential()\n",
    "model.add(Input(shape=(224,224,3)))\n",
    "model.add(Nasnet_model)\n",
    "model.add(Flatten())\n",
    "model.add(Dropout(0.25))\n",
    "model.add(Dense(128, activation='relu'))\n",
    "model.add(Dropout(0.2))\n",
    "model.add(Dense(4, activation='softmax')) \n"
   ]
  },
  {
   "cell_type": "code",
   "execution_count": 15,
   "metadata": {},
   "outputs": [
    {
     "name": "stdout",
     "output_type": "stream",
     "text": [
      "Model: \"sequential_1\"\n",
      "_________________________________________________________________\n",
      " Layer (type)                Output Shape              Param #   \n",
      "=================================================================\n",
      " NASNet (Functional)         (None, 7, 7, 1056)        4269716   \n",
      "                                                                 \n",
      " flatten (Flatten)           (None, 51744)             0         \n",
      "                                                                 \n",
      " dropout (Dropout)           (None, 51744)             0         \n",
      "                                                                 \n",
      " dense (Dense)               (None, 128)               6623360   \n",
      "                                                                 \n",
      " dropout_1 (Dropout)         (None, 128)               0         \n",
      "                                                                 \n",
      " dense_1 (Dense)             (None, 4)                 516       \n",
      "                                                                 \n",
      "=================================================================\n",
      "Total params: 10,893,592\n",
      "Trainable params: 6,623,876\n",
      "Non-trainable params: 4,269,716\n",
      "_________________________________________________________________\n"
     ]
    },
    {
     "name": "stderr",
     "output_type": "stream",
     "text": [
      "C:\\Users\\Umesh\\AppData\\Local\\Programs\\Python\\Python39\\lib\\site-packages\\keras\\optimizer_v2\\adam.py:105: UserWarning: The `lr` argument is deprecated, use `learning_rate` instead.\n",
      "  super(Adam, self).__init__(name, **kwargs)\n"
     ]
    }
   ],
   "source": [
    "model.compile(loss='categorical_crossentropy',optimizer=tf.optimizers.Adam(lr=3e-5) ,metrics='accuracy')\n",
    "model.summary()"
   ]
  },
  {
   "cell_type": "code",
   "execution_count": 16,
   "metadata": {},
   "outputs": [
    {
     "name": "stdout",
     "output_type": "stream",
     "text": [
      "Epoch 1/50\n",
      "62/62 [==============================] - 36s 233ms/step - loss: 0.8055 - accuracy: 0.6925 - val_loss: 0.4027 - val_accuracy: 0.8433\n",
      "Epoch 2/50\n",
      "62/62 [==============================] - 10s 158ms/step - loss: 0.4039 - accuracy: 0.8474 - val_loss: 0.2974 - val_accuracy: 0.8871\n",
      "Epoch 3/50\n",
      "62/62 [==============================] - 10s 165ms/step - loss: 0.3222 - accuracy: 0.8759 - val_loss: 0.2689 - val_accuracy: 0.8983\n",
      "Epoch 4/50\n",
      "62/62 [==============================] - 10s 166ms/step - loss: 0.2348 - accuracy: 0.9130 - val_loss: 0.2299 - val_accuracy: 0.9054\n",
      "Epoch 5/50\n",
      "62/62 [==============================] - 10s 160ms/step - loss: 0.2003 - accuracy: 0.9288 - val_loss: 0.2277 - val_accuracy: 0.9135\n",
      "Epoch 6/50\n",
      "62/62 [==============================] - 10s 161ms/step - loss: 0.1692 - accuracy: 0.9423 - val_loss: 0.2114 - val_accuracy: 0.9095\n",
      "Epoch 7/50\n",
      "62/62 [==============================] - 10s 164ms/step - loss: 0.1412 - accuracy: 0.9448 - val_loss: 0.2011 - val_accuracy: 0.9166\n",
      "Epoch 8/50\n",
      "62/62 [==============================] - 10s 166ms/step - loss: 0.1225 - accuracy: 0.9596 - val_loss: 0.1842 - val_accuracy: 0.9308\n",
      "Epoch 9/50\n",
      "62/62 [==============================] - 10s 160ms/step - loss: 0.1062 - accuracy: 0.9613 - val_loss: 0.1975 - val_accuracy: 0.9156\n",
      "Epoch 10/50\n",
      "62/62 [==============================] - 10s 161ms/step - loss: 0.0948 - accuracy: 0.9664 - val_loss: 0.1957 - val_accuracy: 0.9329\n",
      "Epoch 11/50\n",
      "62/62 [==============================] - 10s 163ms/step - loss: 0.0880 - accuracy: 0.9720 - val_loss: 0.1694 - val_accuracy: 0.9318\n",
      "Epoch 12/50\n",
      "62/62 [==============================] - 10s 161ms/step - loss: 0.0730 - accuracy: 0.9774 - val_loss: 0.1708 - val_accuracy: 0.9318\n",
      "Epoch 13/50\n",
      "62/62 [==============================] - 10s 161ms/step - loss: 0.0643 - accuracy: 0.9797 - val_loss: 0.1744 - val_accuracy: 0.9268\n",
      "Epoch 14/50\n",
      "62/62 [==============================] - 10s 162ms/step - loss: 0.0533 - accuracy: 0.9840 - val_loss: 0.1705 - val_accuracy: 0.9318\n",
      "Epoch 15/50\n",
      "62/62 [==============================] - 10s 165ms/step - loss: 0.0515 - accuracy: 0.9865 - val_loss: 0.1813 - val_accuracy: 0.9349\n",
      "Epoch 16/50\n",
      "62/62 [==============================] - 10s 163ms/step - loss: 0.0416 - accuracy: 0.9893 - val_loss: 0.1852 - val_accuracy: 0.9359\n",
      "Epoch 17/50\n",
      "62/62 [==============================] - 10s 162ms/step - loss: 0.0383 - accuracy: 0.9911 - val_loss: 0.1725 - val_accuracy: 0.9379\n",
      "Epoch 18/50\n",
      "62/62 [==============================] - 10s 164ms/step - loss: 0.0344 - accuracy: 0.9914 - val_loss: 0.1749 - val_accuracy: 0.9400\n",
      "Epoch 19/50\n",
      "62/62 [==============================] - 10s 168ms/step - loss: 0.0319 - accuracy: 0.9931 - val_loss: 0.1776 - val_accuracy: 0.9390\n",
      "Epoch 20/50\n",
      "62/62 [==============================] - 10s 164ms/step - loss: 0.0286 - accuracy: 0.9942 - val_loss: 0.1693 - val_accuracy: 0.9430\n",
      "Epoch 21/50\n",
      "62/62 [==============================] - 10s 164ms/step - loss: 0.0293 - accuracy: 0.9908 - val_loss: 0.1517 - val_accuracy: 0.9461\n",
      "Epoch 22/50\n",
      "62/62 [==============================] - 10s 167ms/step - loss: 0.0232 - accuracy: 0.9944 - val_loss: 0.1739 - val_accuracy: 0.9390\n",
      "Epoch 23/50\n",
      "62/62 [==============================] - 10s 167ms/step - loss: 0.0244 - accuracy: 0.9952 - val_loss: 0.1878 - val_accuracy: 0.9400\n",
      "Epoch 24/50\n",
      "62/62 [==============================] - 10s 167ms/step - loss: 0.0238 - accuracy: 0.9939 - val_loss: 0.1675 - val_accuracy: 0.9440\n",
      "Epoch 25/50\n",
      "62/62 [==============================] - 11s 170ms/step - loss: 0.0222 - accuracy: 0.9962 - val_loss: 0.1954 - val_accuracy: 0.9288\n",
      "Epoch 26/50\n",
      "62/62 [==============================] - 11s 172ms/step - loss: 0.0176 - accuracy: 0.9975 - val_loss: 0.1678 - val_accuracy: 0.9400\n",
      "Epoch 27/50\n",
      "62/62 [==============================] - 11s 170ms/step - loss: 0.0176 - accuracy: 0.9959 - val_loss: 0.1836 - val_accuracy: 0.9481\n",
      "Epoch 28/50\n",
      "62/62 [==============================] - 11s 174ms/step - loss: 0.0159 - accuracy: 0.9975 - val_loss: 0.1880 - val_accuracy: 0.9420\n",
      "Epoch 29/50\n",
      "62/62 [==============================] - 11s 171ms/step - loss: 0.0165 - accuracy: 0.9967 - val_loss: 0.2117 - val_accuracy: 0.9379\n",
      "Epoch 30/50\n",
      "62/62 [==============================] - 11s 171ms/step - loss: 0.0132 - accuracy: 0.9964 - val_loss: 0.1976 - val_accuracy: 0.9430\n",
      "Epoch 31/50\n",
      "62/62 [==============================] - 11s 172ms/step - loss: 0.0166 - accuracy: 0.9954 - val_loss: 0.1981 - val_accuracy: 0.9440\n",
      "Epoch 32/50\n",
      "62/62 [==============================] - 11s 173ms/step - loss: 0.0138 - accuracy: 0.9967 - val_loss: 0.1981 - val_accuracy: 0.9400\n",
      "Epoch 33/50\n",
      "62/62 [==============================] - 11s 173ms/step - loss: 0.0119 - accuracy: 0.9982 - val_loss: 0.1656 - val_accuracy: 0.9471\n",
      "Epoch 34/50\n",
      "62/62 [==============================] - 11s 172ms/step - loss: 0.0117 - accuracy: 0.9985 - val_loss: 0.1794 - val_accuracy: 0.9379\n",
      "Epoch 35/50\n",
      "62/62 [==============================] - 11s 173ms/step - loss: 0.0101 - accuracy: 0.9982 - val_loss: 0.1788 - val_accuracy: 0.9440\n",
      "Epoch 36/50\n",
      "62/62 [==============================] - 11s 175ms/step - loss: 0.0097 - accuracy: 0.9985 - val_loss: 0.1921 - val_accuracy: 0.9379\n",
      "Epoch 37/50\n",
      "62/62 [==============================] - 11s 174ms/step - loss: 0.0088 - accuracy: 0.9985 - val_loss: 0.1820 - val_accuracy: 0.9420\n",
      "Epoch 38/50\n",
      "62/62 [==============================] - 11s 173ms/step - loss: 0.0124 - accuracy: 0.9967 - val_loss: 0.1625 - val_accuracy: 0.9451\n",
      "Epoch 39/50\n",
      "62/62 [==============================] - 11s 173ms/step - loss: 0.0100 - accuracy: 0.9980 - val_loss: 0.1926 - val_accuracy: 0.9379\n",
      "Epoch 40/50\n",
      "62/62 [==============================] - 11s 174ms/step - loss: 0.0099 - accuracy: 0.9985 - val_loss: 0.1932 - val_accuracy: 0.9410\n",
      "Epoch 41/50\n",
      "62/62 [==============================] - 11s 173ms/step - loss: 0.0073 - accuracy: 0.9997 - val_loss: 0.2139 - val_accuracy: 0.9451\n",
      "Epoch 42/50\n",
      "62/62 [==============================] - 11s 174ms/step - loss: 0.0089 - accuracy: 0.9977 - val_loss: 0.1912 - val_accuracy: 0.9400\n",
      "Epoch 43/50\n",
      "62/62 [==============================] - 11s 174ms/step - loss: 0.0067 - accuracy: 0.9995 - val_loss: 0.1778 - val_accuracy: 0.9420\n",
      "Epoch 44/50\n",
      "62/62 [==============================] - 11s 174ms/step - loss: 0.0062 - accuracy: 0.9995 - val_loss: 0.1990 - val_accuracy: 0.9420\n",
      "Epoch 45/50\n",
      "62/62 [==============================] - 11s 175ms/step - loss: 0.0063 - accuracy: 0.9992 - val_loss: 0.1801 - val_accuracy: 0.9451\n",
      "Epoch 46/50\n",
      "62/62 [==============================] - 11s 173ms/step - loss: 0.0061 - accuracy: 0.9990 - val_loss: 0.1883 - val_accuracy: 0.9440\n",
      "Epoch 47/50\n",
      "62/62 [==============================] - 11s 173ms/step - loss: 0.0062 - accuracy: 0.9992 - val_loss: 0.1833 - val_accuracy: 0.9420\n",
      "Epoch 48/50\n",
      "62/62 [==============================] - 11s 175ms/step - loss: 0.0065 - accuracy: 0.9987 - val_loss: 0.1926 - val_accuracy: 0.9430\n",
      "Epoch 49/50\n",
      "62/62 [==============================] - 11s 176ms/step - loss: 0.0046 - accuracy: 0.9995 - val_loss: 0.1846 - val_accuracy: 0.9430\n",
      "Epoch 50/50\n",
      "62/62 [==============================] - 11s 173ms/step - loss: 0.0056 - accuracy: 0.9990 - val_loss: 0.1851 - val_accuracy: 0.9430\n"
     ]
    }
   ],
   "source": [
    "history = model.fit(train.flow(X_train, y_train, batch_size=64,\n",
    "         subset='training'),validation_data=train.flow(X_train, y_train,\n",
    "         batch_size=16, subset='validation'), epochs=50,  callbacks=[tensorboard_callback])\n"
   ]
  },
  {
   "cell_type": "code",
   "execution_count": 17,
   "metadata": {},
   "outputs": [
    {
     "data": {
      "image/png": "[encoded data removed]",
      "text/plain": [
       "<Figure size 432x288 with 1 Axes>"
      ]
     },
     "metadata": {
      "needs_background": "light"
     },
     "output_type": "display_data"
    }
   ],
   "source": [
    "# Plot the loss  curves for training and validation \n",
    "fig = plt.figure()\n",
    "plt.plot(history.history['loss'], color='teal', label='loss')\n",
    "plt.plot(history.history['val_loss'], color='orange', label='val_loss')\n",
    "fig.suptitle('Loss', fontsize=20)\n",
    "plt.legend(loc=\"upper left\")\n",
    "plt.show()"
   ]
  },
  {
   "cell_type": "code",
   "execution_count": 18,
   "metadata": {},
   "outputs": [
    {
     "data": {
      "image/png": "[encoded data removed]",
      "text/plain": [
       "<Figure size 432x288 with 1 Axes>"
      ]
     },
     "metadata": {
      "needs_background": "light"
     },
     "output_type": "display_data"
    }
   ],
   "source": [
    "# Plot the loss  accuracy for training and validation \n",
    "fig = plt.figure()\n",
    "plt.plot(history.history['accuracy'], color='teal', label='accuracy')\n",
    "plt.plot(history.history['val_accuracy'], color='orange', label='val_accuracy')\n",
    "fig.suptitle('Accuracy', fontsize=20)\n",
    "plt.legend(loc=\"upper left\")\n",
    "plt.show()"
   ]
  },
  {
   "cell_type": "code",
   "execution_count": 10,
   "metadata": {},
   "outputs": [],
   "source": [
    "from tensorflow.keras.models import load_model\n",
    "#model.save(os.path.join('models','brainnetmobile.h5'))"
   ]
  },
  {
   "cell_type": "code",
   "execution_count": 8,
   "metadata": {},
   "outputs": [],
   "source": [
    "from tensorflow.keras.models import load_model\n",
    "net_model = load_model('models/brainnetmobile.h5')"
   ]
  },
  {
   "cell_type": "code",
   "execution_count": 9,
   "metadata": {},
   "outputs": [
    {
     "name": "stdout",
     "output_type": "stream",
     "text": [
      "66/66 [==============================] - 14s 76ms/step - loss: 0.1908 - accuracy: 0.9454\n",
      "Test loss: 0.19078798592090607\n",
      "Test accuracy: 0.9454200267791748\n"
     ]
    }
   ],
   "source": [
    "X_test = X_test/255\n",
    "\n",
    "score_cnn = net_model.evaluate(X_test,y_test)\n",
    "\n",
    "print('Test loss:', score_cnn[0]) \n",
    "print('Test accuracy:', score_cnn[1])"
   ]
  },
  {
   "cell_type": "code",
   "execution_count": 10,
   "metadata": {},
   "outputs": [],
   "source": [
    "import matplotlib.pyplot as plt\n",
    "import numpy as np\n",
    "import pandas as pd\n",
    "import seaborn as sns\n",
    "import random\n",
    "import matplotlib.cm as cm\n",
    "\n",
    "from sklearn.metrics import classification_report, confusion_matrix"
   ]
  },
  {
   "cell_type": "code",
   "execution_count": 11,
   "metadata": {},
   "outputs": [],
   "source": [
    "\n",
    "def print_confusion_matrix(confusion_matrix, class_names, figsize = (12, 12), fontsize=14):\n",
    "    group_counts = [\"{0:0.0f}\".format(value) for value in\n",
    "                    confusion_matrix.flatten()]\n",
    "\n",
    "    group_percentages = [\"{0:.2%}\".format(value) for value in\n",
    "                         confusion_matrix.flatten() / np.sum(confusion_matrix)]\n",
    "\n",
    "    labels = [f\"{v2}\\n{v3}\" for v2, v3 in\n",
    "              zip(group_counts, group_percentages)]\n",
    "    labels = np.asarray(labels).reshape(len(class_names), len(class_names))\n",
    "\n",
    "    \n",
    "    df_cm = pd.DataFrame(\n",
    "        confusion_matrix, index=class_names, columns=class_names, \n",
    "    )\n",
    "    fig = plt.figure(figsize=figsize)\n",
    "    try:\n",
    "        heatmap = sns.heatmap(df_cm, annot=labels, fmt='', cmap='Blues')\n",
    "\n",
    "    except ValueError:\n",
    "        raise ValueError(\"Confusion matrix values must be integers.\")\n",
    "    heatmap.yaxis.set_ticklabels(heatmap.yaxis.get_ticklabels(), rotation=0, ha='right', fontsize=fontsize)\n",
    "    heatmap.xaxis.set_ticklabels(heatmap.xaxis.get_ticklabels(), rotation=45, ha='right', fontsize=fontsize)\n",
    "    plt.ylabel('True label')\n",
    "    plt.xlabel('Predicted label')\n",
    "    # Note that due to returning the created figure object, when this funciton is called in a notebook\n",
    "    # the figure willl be printed twice. To prevent this, either append ; to your function call, or\n",
    "    # modify the function by commenting out this return expression.\n",
    "    return fig"
   ]
  },
  {
   "cell_type": "code",
   "execution_count": 13,
   "metadata": {},
   "outputs": [
    {
     "data": {
      "image/png": "[encoded data removed]",
      "text/plain": [
       "<Figure size 864x864 with 2 Axes>"
      ]
     },
     "metadata": {
      "needs_background": "light"
     },
     "output_type": "display_data"
    }
   ],
   "source": [
    "\n",
    "pred = net_model.predict(X_test)\n",
    "y_test = y_test.argmax(axis=1)\n",
    "\n",
    "# take the argmax for each set of prediction scores\n",
    "# to return the class id of the highest confidence prediction\n",
    "pred_ids = pred.argmax(axis=1)\n",
    "conf_mat = confusion_matrix(y_test, pred_ids)\n",
    "figure = print_confusion_matrix(conf_mat, labels)\n",
    "plt.title('Confusion Matrix')\n",
    "plt.show()"
   ]
  },
  {
   "cell_type": "code",
   "execution_count": 14,
   "metadata": {},
   "outputs": [
    {
     "name": "stdout",
     "output_type": "stream",
     "text": [
      "accuracy= 0.9422069817314078\n",
      "recall/senstivity= 0.9454200284765069\n",
      "precision= 0.9452235380832995\n",
      "f1_score= 0.9452256809765192\n"
     ]
    }
   ],
   "source": [
    "import sklearn.metrics as skm\n",
    "print(\"accuracy=\",skm.balanced_accuracy_score(y_test, pred_ids))\n",
    "print(\"recall/senstivity=\",skm.recall_score(y_test, pred_ids,average='weighted'))\n",
    "print(\"precision=\",skm.precision_score(y_test, pred_ids,average='weighted'))\n",
    "print(\"f1_score=\",skm.f1_score(y_test, pred_ids,average='weighted'))"
   ]
  },
  {
   "cell_type": "code",
   "execution_count": null,
   "metadata": {},
   "outputs": [],
   "source": []
  }
 ],
 "metadata": {
  "kernelspec": {
   "display_name": "Python 3 (ipykernel)",
   "language": "python",
   "name": "python3"
  },
  "language_info": {
   "codemirror_mode": {
    "name": "ipython",
    "version": 3
   },
   "file_extension": ".py",
   "mimetype": "text/x-python",
   "name": "python",
   "nbconvert_exporter": "python",
   "pygments_lexer": "ipython3",
   "version": "3.9.13"
  }
 },
 "nbformat": 4,
 "nbformat_minor": 4
}
